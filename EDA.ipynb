{
 "cells": [
  {
   "cell_type": "code",
   "execution_count": 1,
   "metadata": {
    "pycharm": {
     "is_executing": false,
     "name": "#%%\n"
    }
   },
   "outputs": [],
   "source": [
    "import pandas as pd\n",
    "import numpy as np\n",
    "import matplotlib.pyplot as plt"
   ]
  },
  {
   "cell_type": "markdown",
   "metadata": {
    "pycharm": {
     "name": "#%% md\n"
    }
   },
   "source": [
    "# EDA of Datasets\n",
    "Here we will be using a regression model to execute exploratory data analysis of two datasets of top Spotify songs for the year 2017 and 2018."
   ]
  },
  {
   "cell_type": "markdown",
   "metadata": {
    "pycharm": {
     "name": "#%% md\n"
    }
   },
   "source": [
    "First we will read in the dataset from our files"
   ]
  },
  {
   "cell_type": "code",
   "execution_count": 2,
   "metadata": {
    "pycharm": {
     "is_executing": false,
     "name": "#%%\n"
    }
   },
   "outputs": [],
   "source": [
    "dataset_2017 = pd.read_csv('./data/top-tracks-of-2017.csv', delimiter=',')\n",
    "dataset_2018 = pd.read_csv('./data/top-tracks-of-2018.csv', delimiter=',')"
   ]
  },
  {
   "cell_type": "markdown",
   "metadata": {},
   "source": [
    "The dataset for 2017"
   ]
  },
  {
   "cell_type": "code",
   "execution_count": 3,
   "metadata": {
    "pycharm": {
     "is_executing": false,
     "name": "#%%\n"
    }
   },
   "outputs": [
    {
     "data": {
      "text/plain": "       danceability      energy         key    loudness        mode  \\\ncount     100.00000  100.000000  100.000000  100.000000  100.000000   \nmean        0.69682    0.660690    5.570000   -5.652650    0.580000   \nstd         0.12508    0.139207    3.731534    1.802067    0.496045   \nmin         0.25800    0.346000    0.000000  -11.462000    0.000000   \n25%         0.63500    0.556500    2.000000   -6.594500    0.000000   \n50%         0.71400    0.667500    6.000000   -5.437000    1.000000   \n75%         0.77025    0.787500    9.000000   -4.326750    1.000000   \nmax         0.92700    0.932000   11.000000   -2.396000    1.000000   \n\n       speechiness  acousticness  instrumentalness    liveness     valence  \\\ncount   100.000000    100.000000        100.000000  100.000000  100.000000   \nmean      0.103969      0.166306          0.004796    0.150607    0.517049   \nstd       0.095115      0.166730          0.026038    0.079011    0.216436   \nmin       0.023200      0.000259          0.000000    0.042400    0.086200   \n25%       0.043125      0.039100          0.000000    0.098275    0.375500   \n50%       0.062650      0.106500          0.000000    0.125000    0.502500   \n75%       0.123000      0.231250          0.000013    0.179250    0.679000   \nmax       0.431000      0.695000          0.210000    0.440000    0.966000   \n\n            tempo   duration_ms  time_signature  \ncount  100.000000     100.00000          100.00  \nmean   119.202460  218387.28000            3.99  \nstd     27.952928   32851.07772            0.10  \nmin     75.016000  165387.00000            3.00  \n25%     99.911750  198490.50000            4.00  \n50%    112.468000  214106.00000            4.00  \n75%    137.166000  230543.00000            4.00  \nmax    199.864000  343150.00000            4.00  ",
      "text/html": "<div>\n<style scoped>\n    .dataframe tbody tr th:only-of-type {\n        vertical-align: middle;\n    }\n\n    .dataframe tbody tr th {\n        vertical-align: top;\n    }\n\n    .dataframe thead th {\n        text-align: right;\n    }\n</style>\n<table border=\"1\" class=\"dataframe\">\n  <thead>\n    <tr style=\"text-align: right;\">\n      <th></th>\n      <th>danceability</th>\n      <th>energy</th>\n      <th>key</th>\n      <th>loudness</th>\n      <th>mode</th>\n      <th>speechiness</th>\n      <th>acousticness</th>\n      <th>instrumentalness</th>\n      <th>liveness</th>\n      <th>valence</th>\n      <th>tempo</th>\n      <th>duration_ms</th>\n      <th>time_signature</th>\n    </tr>\n  </thead>\n  <tbody>\n    <tr>\n      <th>count</th>\n      <td>100.00000</td>\n      <td>100.000000</td>\n      <td>100.000000</td>\n      <td>100.000000</td>\n      <td>100.000000</td>\n      <td>100.000000</td>\n      <td>100.000000</td>\n      <td>100.000000</td>\n      <td>100.000000</td>\n      <td>100.000000</td>\n      <td>100.000000</td>\n      <td>100.00000</td>\n      <td>100.00</td>\n    </tr>\n    <tr>\n      <th>mean</th>\n      <td>0.69682</td>\n      <td>0.660690</td>\n      <td>5.570000</td>\n      <td>-5.652650</td>\n      <td>0.580000</td>\n      <td>0.103969</td>\n      <td>0.166306</td>\n      <td>0.004796</td>\n      <td>0.150607</td>\n      <td>0.517049</td>\n      <td>119.202460</td>\n      <td>218387.28000</td>\n      <td>3.99</td>\n    </tr>\n    <tr>\n      <th>std</th>\n      <td>0.12508</td>\n      <td>0.139207</td>\n      <td>3.731534</td>\n      <td>1.802067</td>\n      <td>0.496045</td>\n      <td>0.095115</td>\n      <td>0.166730</td>\n      <td>0.026038</td>\n      <td>0.079011</td>\n      <td>0.216436</td>\n      <td>27.952928</td>\n      <td>32851.07772</td>\n      <td>0.10</td>\n    </tr>\n    <tr>\n      <th>min</th>\n      <td>0.25800</td>\n      <td>0.346000</td>\n      <td>0.000000</td>\n      <td>-11.462000</td>\n      <td>0.000000</td>\n      <td>0.023200</td>\n      <td>0.000259</td>\n      <td>0.000000</td>\n      <td>0.042400</td>\n      <td>0.086200</td>\n      <td>75.016000</td>\n      <td>165387.00000</td>\n      <td>3.00</td>\n    </tr>\n    <tr>\n      <th>25%</th>\n      <td>0.63500</td>\n      <td>0.556500</td>\n      <td>2.000000</td>\n      <td>-6.594500</td>\n      <td>0.000000</td>\n      <td>0.043125</td>\n      <td>0.039100</td>\n      <td>0.000000</td>\n      <td>0.098275</td>\n      <td>0.375500</td>\n      <td>99.911750</td>\n      <td>198490.50000</td>\n      <td>4.00</td>\n    </tr>\n    <tr>\n      <th>50%</th>\n      <td>0.71400</td>\n      <td>0.667500</td>\n      <td>6.000000</td>\n      <td>-5.437000</td>\n      <td>1.000000</td>\n      <td>0.062650</td>\n      <td>0.106500</td>\n      <td>0.000000</td>\n      <td>0.125000</td>\n      <td>0.502500</td>\n      <td>112.468000</td>\n      <td>214106.00000</td>\n      <td>4.00</td>\n    </tr>\n    <tr>\n      <th>75%</th>\n      <td>0.77025</td>\n      <td>0.787500</td>\n      <td>9.000000</td>\n      <td>-4.326750</td>\n      <td>1.000000</td>\n      <td>0.123000</td>\n      <td>0.231250</td>\n      <td>0.000013</td>\n      <td>0.179250</td>\n      <td>0.679000</td>\n      <td>137.166000</td>\n      <td>230543.00000</td>\n      <td>4.00</td>\n    </tr>\n    <tr>\n      <th>max</th>\n      <td>0.92700</td>\n      <td>0.932000</td>\n      <td>11.000000</td>\n      <td>-2.396000</td>\n      <td>1.000000</td>\n      <td>0.431000</td>\n      <td>0.695000</td>\n      <td>0.210000</td>\n      <td>0.440000</td>\n      <td>0.966000</td>\n      <td>199.864000</td>\n      <td>343150.00000</td>\n      <td>4.00</td>\n    </tr>\n  </tbody>\n</table>\n</div>"
     },
     "metadata": {},
     "output_type": "execute_result",
     "execution_count": 3
    }
   ],
   "source": [
    "dataset_2017.describe()"
   ]
  },
  {
   "cell_type": "markdown",
   "metadata": {
    "pycharm": {
     "name": "#%% md\n"
    }
   },
   "source": [
    "The dataset for 2018\n"
   ]
  },
  {
   "cell_type": "code",
   "execution_count": 4,
   "metadata": {
    "pycharm": {
     "is_executing": false,
     "name": "#%%\n"
    }
   },
   "outputs": [
    {
     "data": {
      "text/plain": "       danceability      energy         key    loudness        mode  \\\ncount     100.00000  100.000000  100.000000  100.000000  100.000000   \nmean        0.69682    0.660690    5.570000   -5.652650    0.580000   \nstd         0.12508    0.139207    3.731534    1.802067    0.496045   \nmin         0.25800    0.346000    0.000000  -11.462000    0.000000   \n25%         0.63500    0.556500    2.000000   -6.594500    0.000000   \n50%         0.71400    0.667500    6.000000   -5.437000    1.000000   \n75%         0.77025    0.787500    9.000000   -4.326750    1.000000   \nmax         0.92700    0.932000   11.000000   -2.396000    1.000000   \n\n       speechiness  acousticness  instrumentalness    liveness     valence  \\\ncount   100.000000    100.000000        100.000000  100.000000  100.000000   \nmean      0.103969      0.166306          0.004796    0.150607    0.517049   \nstd       0.095115      0.166730          0.026038    0.079011    0.216436   \nmin       0.023200      0.000259          0.000000    0.042400    0.086200   \n25%       0.043125      0.039100          0.000000    0.098275    0.375500   \n50%       0.062650      0.106500          0.000000    0.125000    0.502500   \n75%       0.123000      0.231250          0.000013    0.179250    0.679000   \nmax       0.431000      0.695000          0.210000    0.440000    0.966000   \n\n            tempo   duration_ms  time_signature  \ncount  100.000000     100.00000          100.00  \nmean   119.202460  218387.28000            3.99  \nstd     27.952928   32851.07772            0.10  \nmin     75.016000  165387.00000            3.00  \n25%     99.911750  198490.50000            4.00  \n50%    112.468000  214106.00000            4.00  \n75%    137.166000  230543.00000            4.00  \nmax    199.864000  343150.00000            4.00  ",
      "text/html": "<div>\n<style scoped>\n    .dataframe tbody tr th:only-of-type {\n        vertical-align: middle;\n    }\n\n    .dataframe tbody tr th {\n        vertical-align: top;\n    }\n\n    .dataframe thead th {\n        text-align: right;\n    }\n</style>\n<table border=\"1\" class=\"dataframe\">\n  <thead>\n    <tr style=\"text-align: right;\">\n      <th></th>\n      <th>danceability</th>\n      <th>energy</th>\n      <th>key</th>\n      <th>loudness</th>\n      <th>mode</th>\n      <th>speechiness</th>\n      <th>acousticness</th>\n      <th>instrumentalness</th>\n      <th>liveness</th>\n      <th>valence</th>\n      <th>tempo</th>\n      <th>duration_ms</th>\n      <th>time_signature</th>\n    </tr>\n  </thead>\n  <tbody>\n    <tr>\n      <th>count</th>\n      <td>100.00000</td>\n      <td>100.000000</td>\n      <td>100.000000</td>\n      <td>100.000000</td>\n      <td>100.000000</td>\n      <td>100.000000</td>\n      <td>100.000000</td>\n      <td>100.000000</td>\n      <td>100.000000</td>\n      <td>100.000000</td>\n      <td>100.000000</td>\n      <td>100.00000</td>\n      <td>100.00</td>\n    </tr>\n    <tr>\n      <th>mean</th>\n      <td>0.69682</td>\n      <td>0.660690</td>\n      <td>5.570000</td>\n      <td>-5.652650</td>\n      <td>0.580000</td>\n      <td>0.103969</td>\n      <td>0.166306</td>\n      <td>0.004796</td>\n      <td>0.150607</td>\n      <td>0.517049</td>\n      <td>119.202460</td>\n      <td>218387.28000</td>\n      <td>3.99</td>\n    </tr>\n    <tr>\n      <th>std</th>\n      <td>0.12508</td>\n      <td>0.139207</td>\n      <td>3.731534</td>\n      <td>1.802067</td>\n      <td>0.496045</td>\n      <td>0.095115</td>\n      <td>0.166730</td>\n      <td>0.026038</td>\n      <td>0.079011</td>\n      <td>0.216436</td>\n      <td>27.952928</td>\n      <td>32851.07772</td>\n      <td>0.10</td>\n    </tr>\n    <tr>\n      <th>min</th>\n      <td>0.25800</td>\n      <td>0.346000</td>\n      <td>0.000000</td>\n      <td>-11.462000</td>\n      <td>0.000000</td>\n      <td>0.023200</td>\n      <td>0.000259</td>\n      <td>0.000000</td>\n      <td>0.042400</td>\n      <td>0.086200</td>\n      <td>75.016000</td>\n      <td>165387.00000</td>\n      <td>3.00</td>\n    </tr>\n    <tr>\n      <th>25%</th>\n      <td>0.63500</td>\n      <td>0.556500</td>\n      <td>2.000000</td>\n      <td>-6.594500</td>\n      <td>0.000000</td>\n      <td>0.043125</td>\n      <td>0.039100</td>\n      <td>0.000000</td>\n      <td>0.098275</td>\n      <td>0.375500</td>\n      <td>99.911750</td>\n      <td>198490.50000</td>\n      <td>4.00</td>\n    </tr>\n    <tr>\n      <th>50%</th>\n      <td>0.71400</td>\n      <td>0.667500</td>\n      <td>6.000000</td>\n      <td>-5.437000</td>\n      <td>1.000000</td>\n      <td>0.062650</td>\n      <td>0.106500</td>\n      <td>0.000000</td>\n      <td>0.125000</td>\n      <td>0.502500</td>\n      <td>112.468000</td>\n      <td>214106.00000</td>\n      <td>4.00</td>\n    </tr>\n    <tr>\n      <th>75%</th>\n      <td>0.77025</td>\n      <td>0.787500</td>\n      <td>9.000000</td>\n      <td>-4.326750</td>\n      <td>1.000000</td>\n      <td>0.123000</td>\n      <td>0.231250</td>\n      <td>0.000013</td>\n      <td>0.179250</td>\n      <td>0.679000</td>\n      <td>137.166000</td>\n      <td>230543.00000</td>\n      <td>4.00</td>\n    </tr>\n    <tr>\n      <th>max</th>\n      <td>0.92700</td>\n      <td>0.932000</td>\n      <td>11.000000</td>\n      <td>-2.396000</td>\n      <td>1.000000</td>\n      <td>0.431000</td>\n      <td>0.695000</td>\n      <td>0.210000</td>\n      <td>0.440000</td>\n      <td>0.966000</td>\n      <td>199.864000</td>\n      <td>343150.00000</td>\n      <td>4.00</td>\n    </tr>\n  </tbody>\n</table>\n</div>"
     },
     "metadata": {},
     "output_type": "execute_result",
     "execution_count": 4
    }
   ],
   "source": [
    "dataset_2017.describe()\n"
   ]
  },
  {
   "cell_type": "markdown",
   "metadata": {
    "pycharm": {
     "name": "#%% md\n"
    }
   },
   "source": [
    "The datasets have songs ordered by popularity. Using this we will "
   ]
  },
  {
   "cell_type": "code",
   "execution_count": 5,
   "metadata": {
    "pycharm": {
     "is_executing": false,
     "name": "#%%\n"
    }
   },
   "outputs": [],
   "source": [
    "def createTarget(dataset):\n",
    "    target = np.arange(1, dataset.shape[0] + 1)\n",
    "    target = pd.Series(target)\n",
    "    return target\n",
    "    \n",
    "def addTargetCol(target, dataset):\n",
    "    full_dataset = dataset\n",
    "    full_dataset.insert(dataset.shape[1], \"popularity\", target)\n",
    "    return full_dataset\n",
    "\n",
    "\n",
    "target_dataset_2017 = createTarget(dataset_2017)\n",
    "target_dataset_2018 = createTarget(dataset_2018)\n",
    "\n",
    "revised_dataset_2017 = addTargetCol(target_dataset_2017, dataset_2017)\n",
    "revised_dataset_2018 = addTargetCol(target_dataset_2017, dataset_2018)"
   ]
  },
  {
   "cell_type": "markdown",
   "metadata": {},
   "source": [
    "Plotting the variables vs target for 2017 dataset"
   ]
  },
  {
   "cell_type": "code",
   "execution_count": 7,
   "metadata": {
    "pycharm": {
     "is_executing": false,
     "name": "#%%\n"
    }
   },
   "outputs": [
    {
     "data": {
      "text/plain": "<Figure size 432x288 with 1 Axes>",
      "image/png": "[encoded data removed]"
     },
     "metadata": {
      "needs_background": "light"
     },
     "output_type": "display_data"
    }
   ],
   "source": [
    "revised_dataset_2017.plot(kind='scatter',x='energy',y='popularity',color='red').invert_yaxis()"
   ]
  },
  {
   "cell_type": "code",
   "execution_count": 6,
   "metadata": {
    "pycharm": {
     "name": "#%%\n",
     "is_executing": false
    }
   },
   "outputs": [],
   "source": [
    "\n"
   ]
  },
  {
   "cell_type": "markdown",
   "metadata": {},
   "source": [
    "\n"
   ]
  }
 ],
 "metadata": {
  "kernelspec": {
   "display_name": "Python 3",
   "language": "python",
   "name": "python3"
  },
  "language_info": {
   "codemirror_mode": {
    "name": "ipython",
    "version": 3
   },
   "file_extension": ".py",
   "mimetype": "text/x-python",
   "name": "python",
   "nbconvert_exporter": "python",
   "pygments_lexer": "ipython3",
   "version": "3.7.3"
  },
  "pycharm": {
   "stem_cell": {
    "cell_type": "raw",
    "source": [],
    "metadata": {
     "collapsed": false
    }
   }
  }
 },
 "nbformat": 4,
 "nbformat_minor": 1
}